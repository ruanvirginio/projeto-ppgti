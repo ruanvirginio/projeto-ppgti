{
 "cells": [
  {
   "cell_type": "code",
   "execution_count": 1,
   "metadata": {},
   "outputs": [],
   "source": [
    "import pandas as pd\n",
    "from minio import Minio\n",
    "from minio.error import S3Error\n",
    "import io\n",
    "\n",
    "# Configurações do Minio\n",
    "minio_host = 'minio.ifpbapps.online'\n",
    "minio_access_key = \"VQdTNNVXZZLXNMRnV4RDFoQ2MtZGFSRjN3Q0Z2Z\"\n",
    "minio_secret_key = \"pMnQ4ZkktaU9UdlRYX1c!3S1lHMkVpajU5LTRLTHl1NwbmRDVmdiWW9RaGJvZmFWSkF5YmZ\"\n",
    "minio_bucket = 'raios'\n",
    "\n",
    "# Conectar ao Minio\n",
    "minio_client = Minio(minio_host, access_key=minio_access_key, secret_key=minio_secret_key, secure=True)\n",
    "\n",
    "# Função para baixar arquivo do Minio e carregar como DataFrame\n",
    "def download_and_read_csv(minio_client, bucket, file_path):\n",
    "    try:\n",
    "        # Baixar o arquivo do Minio\n",
    "        data = minio_client.get_object(bucket, file_path)\n",
    "        \n",
    "        # Ler o CSV\n",
    "        df = pd.read_csv(data)\n",
    "        \n",
    "        return df\n",
    "    except S3Error as err:\n",
    "        print(err)\n",
    "        return None\n",
    "\n",
    "# Lista de arquivos no Minio\n",
    "files = [\n",
    "    'Consolidado Raios 2023_EPB.csv',\n",
    "    'Consolidado Raios 2023_ERO.csv',\n",
    "    'Consolidado Raios 2023_EMT.csv',\n",
    "    'Consolidado Raios 2023_EMS.csv',\n",
    "    'Consolidado Raios 2023_EMR.csv',\n",
    "    'Consolidado Raios 2023_EAC.csv',\n",
    "    'Consolidado Raios 2023_ETO.csv',\n",
    "    'Consolidado Raios 2023_ESS.csv',\n",
    "    'Consolidado Raios 2023_ESE.csv'\n",
    "]\n",
    "\n",
    "# Dicionário para armazenar DataFrames\n",
    "dfs = {}\n",
    "\n",
    "# Iterar sobre os arquivos e baixar do Minio\n",
    "for file in files:\n",
    "    df = download_and_read_csv(minio_client, minio_bucket, file)\n",
    "    if df is not None:\n",
    "        dfs[file] = df\n",
    "\n",
    "# Agora, dfs é um dicionário onde as chaves são os nomes dos arquivos e os valores são os DataFrames correspondentes.\n",
    "# Você pode acessar cada DataFrame usando o nome do arquivo como chave.\n"
   ]
  },
  {
   "cell_type": "code",
   "execution_count": 5,
   "metadata": {},
   "outputs": [],
   "source": [
    "Descargas_EPB = dfs['Consolidado Raios 2023_EPB.csv']\n",
    "Descargas_ERO = dfs['Consolidado Raios 2023_ERO.csv']\n",
    "Descargas_ETO = dfs['Consolidado Raios 2023_ETO.csv']\n",
    "Descargas_EMS = dfs['Consolidado Raios 2023_EMS.csv']\n",
    "Descargas_EMR = dfs['Consolidado Raios 2023_EMR.csv']\n",
    "Descargas_EMT = dfs['Consolidado Raios 2023_EMT.csv']\n",
    "Descargas_EAC = dfs['Consolidado Raios 2023_EAC.csv']\n",
    "Descargas_ESS = dfs['Consolidado Raios 2023_ESS.csv']\n",
    "Descargas_ESE = dfs['Consolidado Raios 2023_ESE.csv']\n",
    "\n"
   ]
  },
  {
   "cell_type": "code",
   "execution_count": 6,
   "metadata": {},
   "outputs": [
    {
     "name": "stdout",
     "output_type": "stream",
     "text": [
      "    Ano;Localidade;;Janeiro;;;Fevereiro;;;Março;;;Abril;;;Maio;;;Junho;;;Julho;;;Agosto;;;Setembro;;;Outubro;;;Novembro;;;Dezembro\n",
      "0       ;          ;NS;IN;TO;NS;IN;TO;NS;IN;TO;NS;I...                                                                            \n",
      "1    2023;\"Energisa Paraíba\";28684;65167;93851;3617...                                                                            \n",
      "2    2023;\"Água Branca\";45;84;129;104;69;173;119;25...                                                                            \n",
      "3    2023;\"Aguiar\";322;1374;1696;524;833;1357;721;1...                                                                            \n",
      "4    2023;\"Alagoa Grande\";3;2;5;19;40;59;41;37;78;3...                                                                            \n",
      "..                                                 ...                                                                            \n",
      "220  2023;\"Umbuzeiro\";0;1;1;6;2;8;4;1;5;0;0;0;0;0;0...                                                                            \n",
      "221  2023;\"Várzea\";262;405;667;173;125;298;131;112;...                                                                            \n",
      "222  2023;\"Vieirópolis\";304;457;761;35;63;98;94;183...                                                                            \n",
      "223  2023;\"Vista Serrana\";234;268;502;121;159;280;6...                                                                            \n",
      "224  2023;\"Zabelê\";3;2;5;9;7;16;5;0;5;35;32;67;14;2...                                                                            \n",
      "\n",
      "[225 rows x 1 columns]\n"
     ]
    }
   ],
   "source": [
    "print(Descargas_EPB)"
   ]
  }
 ],
 "metadata": {
  "kernelspec": {
   "display_name": "Python 3",
   "language": "python",
   "name": "python3"
  },
  "language_info": {
   "codemirror_mode": {
    "name": "ipython",
    "version": 3
   },
   "file_extension": ".py",
   "mimetype": "text/x-python",
   "name": "python",
   "nbconvert_exporter": "python",
   "pygments_lexer": "ipython3",
   "version": "3.10.12"
  }
 },
 "nbformat": 4,
 "nbformat_minor": 2
}
