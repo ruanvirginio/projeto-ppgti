{
 "cells": [
  {
   "cell_type": "code",
   "execution_count": null,
   "metadata": {},
   "outputs": [],
   "source": [
    "import pandas as pd\n",
    "from minio import Minio\n",
    "from minio.error import S3Error\n",
    "\n",
    "# Configurações do Minio\n",
    "minio_host = 'minio.ifpbapps.online'\n",
    "minio_access_key = \"VQdTNNVXZZLXNMRnV4RDFoQ2MtZGFSRjN3Q0Z2Z\"\n",
    "minio_secret_key = \"pMnQ4ZkktaU9UdlRYX1c!3S1lHMkVpajU5LTRLTHl1NwbmRDVmdiWW9RaGJvZmFWSkF5YmZ\"\n",
    "minio_bucket = 'raios'\n",
    "\n",
    "# Conectar ao Minio\n",
    "minio_client = Minio(minio_host, access_key=minio_access_key, secret_key=minio_secret_key, secure=True)\n",
    "\n",
    "# Função para baixar arquivo do Minio e carregar como DataFrame\n",
    "def download_and_read_csv(minio_client, bucket, file_path, encoding='latin-1', delimiter=','):\n",
    "    try:\n",
    "        # Baixar o arquivo do Minio\n",
    "        data = minio_client.get_object(bucket, file_path)\n",
    "        \n",
    "        # Ler o CSV como bytes\n",
    "        data_bytes = data.read()\n",
    "\n",
    "        # Decodificar os bytes para um DataFrame\n",
    "        df = pd.read_csv(io.BytesIO(data_bytes), encoding=encoding, delimiter=delimiter)\n",
    "        \n",
    "        return df\n",
    "    except S3Error as err:\n",
    "        print(err)\n",
    "        return None\n",
    "\n",
    "# Lista de arquivos no Minio\n",
    "all_files = minio_client.list_objects(minio_bucket, prefix='Consolidado Raios 2023_')\n",
    "files = [file.object_name for file in all_files]\n",
    "\n",
    "# Lista para armazenar DataFrames\n",
    "dfs = []\n",
    "\n",
    "# Iterar sobre os arquivos e baixar do Minio\n",
    "for file in files:\n",
    "    df = download_and_read_csv(minio_client, minio_bucket, file)\n",
    "    if df is not None:\n",
    "        dfs.append(df)\n",
    "\n",
    "# Concatenar os DataFrames\n",
    "Descargas_Energisa = pd.concat(dfs, ignore_index=True)\n",
    "\n",
    "# Carregar os DataFrames Cod_IBGE e Ocorrencias diretamente do Minio\n",
    "Cod_IBGE = download_and_read_csv(minio_client, minio_bucket, 'cod_ibge.xls', encoding='latin-1')\n",
    "Ocorrencias = download_and_read_csv(minio_client, minio_bucket, 'ocorrencias-emergenciais-rede-distribuicao-2023.csv', encoding='latin-1')"
   ]
  }
 ],
 "metadata": {
  "kernelspec": {
   "display_name": "Python 3",
   "language": "python",
   "name": "python3"
  },
  "language_info": {
   "codemirror_mode": {
    "name": "ipython",
    "version": 3
   },
   "file_extension": ".py",
   "mimetype": "text/x-python",
   "name": "python",
   "nbconvert_exporter": "python",
   "pygments_lexer": "ipython3",
   "version": "3.10.12"
  }
 },
 "nbformat": 4,
 "nbformat_minor": 2
}
