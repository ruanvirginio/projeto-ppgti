{
 "cells": [
  {
   "cell_type": "code",
   "execution_count": null,
   "metadata": {},
   "outputs": [],
   "source": [
    "import pandas as pd\n",
    "import os\n",
    "\n",
    "def carregar_descargas(tipo):\n",
    "    caminho = f'C:\\\\Users\\\\rcvs3\\\\OneDrive - Energisa\\\\Documentos\\\\Mestrado\\\\DESCARGAS_2023\\\\Consolidado Raios 2023_{tipo}.csv'\n",
    "    return pd.read_csv(caminho, delimiter=';')\n",
    "\n",
    "tipos_descargas = ['EPB', 'ERO', 'EMT', 'EMS', 'EMR', 'EAC', 'ETO', 'ESS', 'ESE']\n",
    "descargas = {tipo: carregar_descargas(tipo) for tipo in tipos_descargas}\n",
    "\n",
    "# Aplicar operações a cada DataFrame\n",
    "for tipo, df in descargas.items():\n",
    "    # Mantendo apenas as colunas da base que possuem dados de raios no sentido Nuvem-Solo\n",
    "    df = df.iloc[:, [0, 1, 4, 7, 10, 13, 16, 19, 22, 25, 28, 31, 34]]\n",
    "    \n",
    "    # Excluir a primeira linha, pois a tabela só começa na terceira linha\n",
    "    df = df.drop(df.index[0])\n",
    "    \n",
    "    # Renomear todas as colunas para que fique de acordo com o número de raios nos meses correspondentes\n",
    "    novos_nomes_colunas = ['Nome_Município', 'Janeiro', 'Fevereiro', 'Março', 'Abril', 'Maio', 'Junho', 'Julho', 'Agosto', 'Setembro', 'Outubro', 'Novembro', 'Dezembro']\n",
    "    df.columns = novos_nomes_colunas\n",
    "    \n",
    "    # Atualizar o DataFrame original no dicionário\n",
    "    descargas[tipo] = df\n"
   ]
  },
  {
   "cell_type": "code",
   "execution_count": null,
   "metadata": {},
   "outputs": [],
   "source": [
    "Descargas_EPB = descargas['EPB']\n",
    "Descargas_ERO = descargas['ERO']\n",
    "Descargas_ETO = descargas['ETO']\n",
    "Descargas_EMS = descargas['EMS']\n",
    "Descargas_EMR = descargas['EMR']\n",
    "Descargas_EMT = descargas['EMT']\n",
    "Descargas_EAC = descargas['EAC']\n",
    "Descargas_ESS = descargas['ESS']\n",
    "Descargas_ESE = descargas['ESE']\n",
    "\n"
   ]
  },
  {
   "cell_type": "code",
   "execution_count": null,
   "metadata": {},
   "outputs": [],
   "source": [
    "Cod_IBGE = pd.read_excel('C:\\\\Users\\\\rcvs3\\\\OneDrive - Energisa\\\\Documentos\\\\Mestrado\\\\cod_ibge.xls', header=6)"
   ]
  },
  {
   "cell_type": "code",
   "execution_count": null,
   "metadata": {},
   "outputs": [],
   "source": [
    "# Definindo os DataFrames IBGE para cada estado\n",
    "IBGE_EPB = Cod_IBGE[Cod_IBGE['Nome_UF'] == 'Paraíba']\n",
    "IBGE_ESE = Cod_IBGE[Cod_IBGE['Nome_UF'] == 'Sergipe']\n",
    "IBGE_ETO = Cod_IBGE[Cod_IBGE['Nome_UF'] == 'Tocantins']\n",
    "IBGE_EAC = Cod_IBGE[Cod_IBGE['Nome_UF'] == 'Acre']\n",
    "IBGE_ERO = Cod_IBGE[Cod_IBGE['Nome_UF'] == 'Rondônia']\n",
    "IBGE_EMT = Cod_IBGE[Cod_IBGE['Nome_UF'] == 'Mato Grosso']\n",
    "IBGE_EMS = Cod_IBGE[Cod_IBGE['Nome_UF'] == 'Mato Grosso do Sul']\n",
    "IBGE_ESS = Cod_IBGE[Cod_IBGE['Nome_UF'].isin(['São Paulo', 'Paraná', 'Minas Gerais'])]\n",
    "IBGE_EMR = Cod_IBGE[Cod_IBGE['Nome_UF'].isin(['Minas Gerais', 'Rio de Janeiro'])]\n",
    "\n",
    "# Mesclar cada Descargas_EXX com seu equivalente IBGE_EXX\n",
    "Descargas_EPB = pd.merge(Descargas_EPB, IBGE_EPB, on='Nome_Município', how='inner')\n",
    "Descargas_ESE = pd.merge(Descargas_ESE, IBGE_ESE, on='Nome_Município', how='inner')\n",
    "Descargas_ETO = pd.merge(Descargas_ETO, IBGE_ETO, on='Nome_Município', how='inner')\n",
    "Descargas_EAC = pd.merge(Descargas_EAC, IBGE_EAC, on='Nome_Município', how='inner')\n",
    "Descargas_ERO = pd.merge(Descargas_ERO, IBGE_ERO, on='Nome_Município', how='inner')\n",
    "Descargas_EMT = pd.merge(Descargas_EMT, IBGE_EMT, on='Nome_Município', how='inner')\n",
    "Descargas_EMS = pd.merge(Descargas_EMS, IBGE_EMS, on='Nome_Município', how='inner')\n",
    "Descargas_ESS = pd.merge(Descargas_ESS, IBGE_ESS, on='Nome_Município', how='inner')\n",
    "Descargas_EMR = pd.merge(Descargas_EMR, IBGE_EMR, on='Nome_Município', how='inner')\n",
    "\n",
    "# Deixando um único dataframe pra todas as descargas do grupo Energisa\n",
    "Lista_Descargas = [Descargas_EPB, Descargas_ERO, Descargas_EMT, Descargas_EMS, Descargas_EMR, Descargas_EAC, Descargas_ETO, Descargas_ESS, Descargas_ESE]\n",
    "Descargas_Energisa = pd.concat(Lista_Descargas, ignore_index=True)"
   ]
  },
  {
   "cell_type": "code",
   "execution_count": null,
   "metadata": {},
   "outputs": [],
   "source": [
    "# ADICIONAR COLUNA DE SOMA DOS MESES DE JANEIRO A DEZEMBRO, NO DATAFRAME INTEIRO MESMO.\n",
    "# Convertendo as colunas de meses para o tipo numérico, substituindo valores não numéricos por 0\n",
    "Descargas_Energisa.iloc[:, 1:13] = Descargas_Energisa.iloc[:, 1:13].applymap(lambda x: pd.to_numeric(x, errors='coerce')).fillna(0)\n",
    "\n",
    "# Agora, criamos a coluna \"Total\" somando os valores das colunas de meses\n",
    "Descargas_Energisa['Total'] = Descargas_Energisa.iloc[:, 1:13].sum(axis=1)\n",
    "\n",
    "print(Descargas_Energisa)\n",
    "\n",
    "print(Descargas_Energisa.columns)"
   ]
  },
  {
   "cell_type": "code",
   "execution_count": null,
   "metadata": {},
   "outputs": [],
   "source": [
    "Ocorrencias = pd.read_csv('C:\\\\Users\\\\rcvs3\\\\OneDrive - Energisa\\\\Documentos\\\\Mestrado\\\\ocorrencias-emergenciais-rede-distribuicao-2023.csv', delimiter=';', encoding='latin-1', low_memory=False)"
   ]
  },
  {
   "cell_type": "code",
   "execution_count": null,
   "metadata": {},
   "outputs": [],
   "source": [
    "\n",
    "# renomeia a coluna CodIBGE para Código Município Completo\n",
    "\n",
    "Ocorrencias = Ocorrencias.rename(columns={'CodIBGE': 'Código Município Completo'})\n",
    "\n",
    "\n",
    "# Ocorrencias = Ocorrencias.rename('CodIBGE', 'Código Município Completo')"
   ]
  },
  {
   "cell_type": "code",
   "execution_count": null,
   "metadata": {},
   "outputs": [],
   "source": [
    "print(Ocorrencias.columns)\n"
   ]
  },
  {
   "cell_type": "code",
   "execution_count": null,
   "metadata": {},
   "outputs": [],
   "source": [
    "print(Descargas_Energisa.columns)"
   ]
  },
  {
   "cell_type": "code",
   "execution_count": null,
   "metadata": {},
   "outputs": [],
   "source": [
    "# Filtrando apenas ocorrências que sejam advindas de descargas atmosféricas\n",
    "Ocorrencias = Ocorrencias[Ocorrencias['DscOcorrenciaAberta'] == \"INTERNA;NAO PROGRAMADA;MEIO AMBIENTE;DESCARGA ATMOSFERICA\"]\n",
    "# # Mesclando a tabela de Ocorrências com o nome dos municípios, conforme código IBGE\n",
    "Ocorrencias = pd.merge(Ocorrencias, Cod_IBGE, on='Código Município Completo', how='inner')\n",
    "Ocorrencias = pd.merge(Ocorrencias, Descargas_Energisa, on='Código Município Completo', how='inner')"
   ]
  },
  {
   "cell_type": "code",
   "execution_count": null,
   "metadata": {},
   "outputs": [],
   "source": [
    "print(Ocorrencias)"
   ]
  },
  {
   "cell_type": "code",
   "execution_count": null,
   "metadata": {},
   "outputs": [],
   "source": [
    "print(Ocorrencias.columns)\n"
   ]
  },
  {
   "cell_type": "code",
   "execution_count": null,
   "metadata": {},
   "outputs": [],
   "source": [
    "# Criando a coluna que concatena 'Nome_Município_x' e 'Nome_UF_x'\n",
    "Ocorrencias['Município - Estado'] = Ocorrencias.apply(lambda row: f\"{row['Nome_Município_x']} - {row['Nome_UF_x']}\", axis=1)\n",
    "\n",
    "# Agrupando e contando as ocorrências\n",
    "df = Ocorrencias.groupby(['Nome_Município_x', 'Nome_UF_x', 'Município - Estado', 'Total', 'Código Município Completo']).size().reset_index(name='Contagem de Ocorrências')\n",
    "\n",
    "df = pd.merge(df, Descargas_Energisa, on='Código Município Completo', how='inner')\n",
    "\n",
    "print(df)\n",
    "\n",
    "# Criar tabela com todas as informações, que vão ser jogadas lá no yugabyte\n"
   ]
  }
 ],
 "metadata": {
  "kernelspec": {
   "display_name": "Python 3",
   "language": "python",
   "name": "python3"
  },
  "language_info": {
   "codemirror_mode": {
    "name": "ipython",
    "version": 3
   },
   "file_extension": ".py",
   "mimetype": "text/x-python",
   "name": "python",
   "nbconvert_exporter": "python",
   "pygments_lexer": "ipython3",
   "version": "3.10.12"
  }
 },
 "nbformat": 4,
 "nbformat_minor": 2
}
