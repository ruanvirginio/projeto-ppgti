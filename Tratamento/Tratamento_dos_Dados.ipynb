{
 "cells": [
  {
   "cell_type": "code",
   "execution_count": 10,
   "metadata": {},
   "outputs": [],
   "source": [
    "import pandas as pd\n",
    "from minio import Minio\n",
    "from minio.error import S3Error\n",
    "from io import BytesIO\n",
    "import io\n",
    "\n",
    "# Configurações do Minio\n",
    "minio_host = 'minio.ifpbapps.online'\n",
    "minio_access_key = \"VQdTNNVXZZLXNMRnV4RDFoQ2MtZGFSRjN3Q0Z2Z\"\n",
    "minio_secret_key = \"pMnQ4ZkktaU9UdlRYX1c!3S1lHMkVpajU5LTRLTHl1NwbmRDVmdiWW9RaGJvZmFWSkF5YmZ\"\n",
    "minio_bucket = 'raios'\n",
    "minio_folder = ''\n",
    "\n",
    "# Conectar ao Minio\n",
    "minio_client = Minio(minio_host, access_key=minio_access_key, secret_key=minio_secret_key, secure=True)\n",
    "\n",
    "# Função para baixar arquivo do Minio e carregar como DataFrame\n",
    "def download_and_read_csv(minio_client, bucket, file_path, separator=','):\n",
    "    try:\n",
    "        # Baixar o arquivo do Minio\n",
    "        data = minio_client.get_object(bucket, file_path)\n",
    "        \n",
    "        # Ler o CSV usando pandas e especificar o separador\n",
    "        df = pd.read_csv(BytesIO(data.read()), sep=separator)\n",
    "        \n",
    "        return df\n",
    "    except S3Error as err:\n",
    "        print(err)\n",
    "        return None\n",
    "\n",
    "# Lista de arquivos no Minio\n",
    "files = [\n",
    "    'Consolidado Raios 2023_EPB.csv',\n",
    "    'Consolidado Raios 2023_ERO.csv',\n",
    "    'Consolidado Raios 2023_EMT.csv',\n",
    "    'Consolidado Raios 2023_EMS.csv',\n",
    "    'Consolidado Raios 2023_EMR.csv',\n",
    "    'Consolidado Raios 2023_EAC.csv',\n",
    "    'Consolidado Raios 2023_ETO.csv',\n",
    "    'Consolidado Raios 2023_ESS.csv',\n",
    "    'Consolidado Raios 2023_ESE.csv'\n",
    "]\n",
    "\n",
    "# Dicionário para armazenar DataFrames\n",
    "dfs = {}\n",
    "\n",
    "# Iterar sobre os arquivos e baixar do Minio\n",
    "for file in files:\n",
    "    df = download_and_read_csv(minio_client, minio_bucket, file, separator=';')\n",
    "    if df is not None:\n",
    "        dfs[file] = df\n",
    "\n",
    "# Agora, dfs é um dicionário onde as chaves são os nomes dos arquivos e os valores são os DataFrames correspondentes.\n",
    "# Você pode acessar cada DataFrame usando o nome do arquivo como chave.\n",
    "\n",
    "Descargas_EPB = dfs['Consolidado Raios 2023_EPB.csv']\n",
    "Descargas_ERO = dfs['Consolidado Raios 2023_ERO.csv']\n",
    "Descargas_ETO = dfs['Consolidado Raios 2023_ETO.csv']\n",
    "Descargas_EMS = dfs['Consolidado Raios 2023_EMS.csv']\n",
    "Descargas_EMR = dfs['Consolidado Raios 2023_EMR.csv']\n",
    "Descargas_EMT = dfs['Consolidado Raios 2023_EMT.csv']\n",
    "Descargas_EAC = dfs['Consolidado Raios 2023_EAC.csv']\n",
    "Descargas_ESS = dfs['Consolidado Raios 2023_ESS.csv']\n",
    "Descargas_ESE = dfs['Consolidado Raios 2023_ESE.csv']"
   ]
  },
  {
   "cell_type": "code",
   "execution_count": 11,
   "metadata": {},
   "outputs": [
    {
     "name": "stdout",
     "output_type": "stream",
     "text": [
      "WARNING *** OLE2 inconsistency: SSCS size is 0 but SSAT size is non-zero\n",
      "*** No CODEPAGE record, no encoding_override: will use 'iso-8859-1'\n"
     ]
    }
   ],
   "source": [
    "# Carrega os códigos do IBGE\n",
    "cod_ibge_data = minio_client.get_object(minio_bucket, f'{minio_folder}dados-ibge.xls')\n",
    "cod_ibge_buffer = io.BytesIO(cod_ibge_data.read())\n",
    "Cod_IBGE = pd.read_excel(cod_ibge_buffer, header=6)\n",
    "\n",
    "# Selecionar apenas as colunas desejadas\n",
    "Cod_IBGE = Cod_IBGE[['Nome_UF', 'Código Município Completo', 'Nome_Município']]\n",
    "\n",
    "# Renomear as colunas\n",
    "Cod_IBGE = Cod_IBGE.rename(columns={\n",
    "    'Nome_UF': 'UF',\n",
    "    'Código Município Completo': 'Cod_Municipio',\n",
    "    'Nome_Município': 'Nome_Municipio'\n",
    "})\n"
   ]
  },
  {
   "cell_type": "code",
   "execution_count": 12,
   "metadata": {},
   "outputs": [],
   "source": [
    "# Carrega as ocorrências da ANEEL\n",
    "ocorrencias_data = minio_client.get_object(minio_bucket, f'{minio_folder}Ocorrencias_ANEEL_2023.csv')\n",
    "ocorrencias_buffer = io.BytesIO(ocorrencias_data.read())\n",
    "Ocorrencias = pd.read_csv(ocorrencias_buffer, delimiter=',', encoding='latin-1', low_memory=False)"
   ]
  },
  {
   "cell_type": "code",
   "execution_count": 13,
   "metadata": {},
   "outputs": [],
   "source": [
    "novos_nomes_colunas = ['Nome_Municipio', 'Janeiro', 'Fevereiro', 'Marco', 'Abril', 'Maio', 'Junho', 'Julho', 'Agosto', 'Setembro', 'Outubro', 'Novembro', 'Dezembro']\n",
    "\n",
    "# Mantendo apenas as colunas da base que possuem dados de raios no sentido Nuvem-Solo\n",
    "Descargas_EMR = Descargas_EMR.iloc[:, [0, 1, 4, 7, 10, 13, 16, 19, 22, 25, 28, 31, 34]]\n",
    "\n",
    "# Excluir a primeira linha, pois a tabela só começa na terceira linha\n",
    "Descargas_EMR = Descargas_EMR.drop(Descargas_EMR.index[0])\n",
    "\n",
    "# Renomear todas as colunas para que fique de acordo com o número de raios nos meses correspondentes\n",
    "Descargas_EMR.columns = novos_nomes_colunas\n",
    "\n",
    "Descargas_EPB = Descargas_EPB.iloc[:, [0, 1, 4, 7, 10, 13, 16, 19, 22, 25, 28, 31, 34]]\n",
    "Descargas_EPB = Descargas_EPB.drop(Descargas_EPB.index[0])\n",
    "Descargas_EPB.columns = novos_nomes_colunas\n",
    "\n",
    "Descargas_ERO = Descargas_ERO.iloc[:, [0, 1, 4, 7, 10, 13, 16, 19, 22, 25, 28, 31, 34]]\n",
    "Descargas_ERO = Descargas_ERO.drop(Descargas_ERO.index[0])\n",
    "Descargas_ERO.columns = novos_nomes_colunas\n",
    "\n",
    "Descargas_EMS = Descargas_EMS.iloc[:, [0, 1, 4, 7, 10, 13, 16, 19, 22, 25, 28, 31, 34]]\n",
    "Descargas_EMS = Descargas_EMS.drop(Descargas_EMS.index[0])\n",
    "Descargas_EMS.columns = novos_nomes_colunas\n",
    "\n",
    "Descargas_EMT = Descargas_EMT.iloc[:, [0, 1, 4, 7, 10, 13, 16, 19, 22, 25, 28, 31, 34]]\n",
    "Descargas_EMT = Descargas_EMT.drop(Descargas_EMT.index[0])\n",
    "Descargas_EMT.columns = novos_nomes_colunas\n",
    "\n",
    "Descargas_EAC = Descargas_EAC.iloc[:, [0, 1, 4, 7, 10, 13, 16, 19, 22, 25, 28, 31, 34]]\n",
    "Descargas_EAC = Descargas_EAC.drop(Descargas_EAC.index[0])\n",
    "Descargas_EAC.columns = novos_nomes_colunas\n",
    "\n",
    "Descargas_ETO = Descargas_ETO.iloc[:, [0, 1, 4, 7, 10, 13, 16, 19, 22, 25, 28, 31, 34]]\n",
    "Descargas_ETO = Descargas_ETO.drop(Descargas_ETO.index[0])\n",
    "Descargas_ETO.columns = novos_nomes_colunas\n",
    "\n",
    "Descargas_ESS = Descargas_ESS.iloc[:, [0, 1, 4, 7, 10, 13, 16, 19, 22, 25, 28, 31, 34]]\n",
    "Descargas_ESS = Descargas_ESS.drop(Descargas_ESS.index[0])\n",
    "Descargas_ESS.columns = novos_nomes_colunas\n",
    "\n",
    "Descargas_ESE = Descargas_ESE.iloc[:, [0, 1, 4, 7, 10, 13, 16, 19, 22, 25, 28, 31, 34]]\n",
    "Descargas_ESE = Descargas_ESE.drop(Descargas_ESE.index[0])\n",
    "Descargas_ESE.columns = novos_nomes_colunas"
   ]
  },
  {
   "cell_type": "code",
   "execution_count": 14,
   "metadata": {},
   "outputs": [],
   "source": [
    "# Definindo os DataFrames IBGE para cada estado\n",
    "IBGE_EPB = Cod_IBGE[Cod_IBGE['UF'] == 'Paraíba']\n",
    "IBGE_ESE = Cod_IBGE[Cod_IBGE['UF'] == 'Sergipe']\n",
    "IBGE_ETO = Cod_IBGE[Cod_IBGE['UF'] == 'Tocantins']\n",
    "IBGE_EAC = Cod_IBGE[Cod_IBGE['UF'] == 'Acre']\n",
    "IBGE_ERO = Cod_IBGE[Cod_IBGE['UF'] == 'Rondônia']\n",
    "IBGE_EMT = Cod_IBGE[Cod_IBGE['UF'] == 'Mato Grosso']\n",
    "IBGE_EMS = Cod_IBGE[Cod_IBGE['UF'] == 'Mato Grosso do Sul']\n",
    "IBGE_ESS = Cod_IBGE[Cod_IBGE['UF'].isin(['São Paulo', 'Paraná', 'Minas Gerais'])]\n",
    "IBGE_EMR = Cod_IBGE[Cod_IBGE['UF'].isin(['Minas Gerais', 'Rio de Janeiro'])]\n",
    "\n",
    "# Mesclar cada Descargas_EXX com seu equivalente IBGE_EXX\n",
    "Descargas_EPB = pd.merge(Descargas_EPB, IBGE_EPB, on='Nome_Municipio', how='inner')\n",
    "Descargas_ESE = pd.merge(Descargas_ESE, IBGE_ESE, on='Nome_Municipio', how='inner')\n",
    "Descargas_ETO = pd.merge(Descargas_ETO, IBGE_ETO, on='Nome_Municipio', how='inner')\n",
    "Descargas_EAC = pd.merge(Descargas_EAC, IBGE_EAC, on='Nome_Municipio', how='inner')\n",
    "Descargas_ERO = pd.merge(Descargas_ERO, IBGE_ERO, on='Nome_Municipio', how='inner')\n",
    "Descargas_EMT = pd.merge(Descargas_EMT, IBGE_EMT, on='Nome_Municipio', how='inner')\n",
    "Descargas_EMS = pd.merge(Descargas_EMS, IBGE_EMS, on='Nome_Municipio', how='inner')\n",
    "Descargas_ESS = pd.merge(Descargas_ESS, IBGE_ESS, on='Nome_Municipio', how='inner')\n",
    "Descargas_EMR = pd.merge(Descargas_EMR, IBGE_EMR, on='Nome_Municipio', how='inner')\n",
    "\n",
    "# Deixando um único dataframe pra todas as descargas do grupo Energisa\n",
    "Lista_Descargas = [Descargas_EPB, Descargas_ERO, Descargas_EMT, Descargas_EMS, Descargas_EMR, Descargas_EAC, Descargas_ETO, Descargas_ESS, Descargas_ESE]\n",
    "Descargas_Energisa = pd.concat(Lista_Descargas, ignore_index=True)"
   ]
  },
  {
   "cell_type": "code",
   "execution_count": 15,
   "metadata": {},
   "outputs": [],
   "source": [
    "Ocorrencias = Ocorrencias[['Tipo_Ocorrencia', 'Cod_Municipio']]\n",
    "\n",
    "Ocorrencias = Ocorrencias['Cod_Municipio'].value_counts()\n",
    "\n",
    "Ocorrencias = Ocorrencias.reset_index()\n",
    "Ocorrencias.columns = ['Cod_Municipio', 'Quantidade_de_Ocorrencias']"
   ]
  },
  {
   "cell_type": "code",
   "execution_count": 16,
   "metadata": {},
   "outputs": [],
   "source": [
    "# ADICIONAR COLUNA DE SOMA DOS MESES DE JANEIRO A DEZEMBRO, NO DATAFRAME INTEIRO MESMO.\n",
    "# Convertendo as colunas de meses para o tipo numérico, substituindo valores não numéricos por 0\n",
    "Descargas_Energisa.iloc[:, 1:13] = Descargas_Energisa.iloc[:, 1:13].map(lambda x: pd.to_numeric(x, errors='coerce')).fillna(0)\n",
    "\n",
    "# Agora, criamos a coluna \"Total\" somando os valores das colunas de meses\n",
    "Descargas_Energisa['Total'] = Descargas_Energisa.iloc[:, 1:13].sum(axis=1)\n",
    "\n",
    "# Ocorrencias = pd.merge(Ocorrencias, Cod_IBGE, on='Cod_Municipio', how='inner')\n",
    "Ocorrencias_Raios = pd.merge(Ocorrencias, Descargas_Energisa, on='Cod_Municipio', how='inner')\n"
   ]
  },
  {
   "cell_type": "code",
   "execution_count": 17,
   "metadata": {},
   "outputs": [],
   "source": [
    "Ocorrencias_Raios['Municipio_Estado'] = Ocorrencias_Raios.apply(lambda row: f\"{row['Nome_Municipio']} - {row['UF']}\", axis=1)"
   ]
  },
  {
   "cell_type": "code",
   "execution_count": 18,
   "metadata": {},
   "outputs": [],
   "source": [
    "Ocorrencias_Raios.to_csv('Ocorrencias_Raios.csv',index=False)"
   ]
  }
 ],
 "metadata": {
  "kernelspec": {
   "display_name": "Python 3",
   "language": "python",
   "name": "python3"
  },
  "language_info": {
   "codemirror_mode": {
    "name": "ipython",
    "version": 3
   },
   "file_extension": ".py",
   "mimetype": "text/x-python",
   "name": "python",
   "nbconvert_exporter": "python",
   "pygments_lexer": "ipython3",
   "version": "3.10.12"
  }
 },
 "nbformat": 4,
 "nbformat_minor": 2
}
