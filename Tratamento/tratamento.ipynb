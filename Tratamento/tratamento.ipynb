{
 "cells": [
  {
   "cell_type": "code",
   "execution_count": 16,
   "metadata": {},
   "outputs": [],
   "source": [
    "# pip install xlrd\n",
    "# pip install pandas"
   ]
  },
  {
   "cell_type": "code",
   "execution_count": 17,
   "metadata": {},
   "outputs": [],
   "source": [
    "# Tratamento de dados, ainda fora do ambiente kubernetes\n",
    "\n",
    "import pandas as pd\n",
    "import os"
   ]
  },
  {
   "cell_type": "code",
   "execution_count": 18,
   "metadata": {},
   "outputs": [],
   "source": [
    "import pandas as pd\n",
    "\n",
    "Descargas_EPB = pd.read_csv(f'/home/ruanv/DESCARGAS_2023/Consolidado Raios 2023_EPB.csv', delimiter=';')\n",
    "Descargas_ERO = pd.read_csv(f'/home/ruanv/DESCARGAS_2023/Consolidado Raios 2023_ERO.csv', delimiter=';')\n",
    "Descargas_EMT = pd.read_csv(f'/home/ruanv/DESCARGAS_2023/Consolidado Raios 2023_EMT.csv', delimiter=';')\n",
    "Descargas_EMS = pd.read_csv(f'/home/ruanv/DESCARGAS_2023/Consolidado Raios 2023_EMS.csv', delimiter=';')\n",
    "Descargas_EMR = pd.read_csv(f'/home/ruanv/DESCARGAS_2023/Consolidado Raios 2023_EMR.csv', delimiter=';')\n",
    "Descargas_EAC = pd.read_csv(f'/home/ruanv/DESCARGAS_2023/Consolidado Raios 2023_EAC.csv', delimiter=';')\n",
    "Descargas_ETO = pd.read_csv(f'/home/ruanv/DESCARGAS_2023/Consolidado Raios 2023_ETO.csv', delimiter=';')\n",
    "Descargas_ESS = pd.read_csv(f'/home/ruanv/DESCARGAS_2023/Consolidado Raios 2023_ESS.csv', delimiter=';')\n",
    "Descargas_ESE = pd.read_csv(f'/home/ruanv/DESCARGAS_2023/Consolidado Raios 2023_ESE.csv', delimiter=';')\n",
    "\n",
    "Lista_Descargas = [Descargas_EPB, Descargas_ERO, Descargas_EMT, Descargas_EMS, Descargas_EMR, Descargas_EAC, Descargas_ETO, Descargas_ESS, Descargas_ESE]\n",
    "\n",
    "Descargas_Energisa = pd.concat(Lista_Descargas, ignore_index=True)\n",
    "\n",
    "Descargas_Energisa = Descargas_Energisa.iloc[:, [0, 1, 4, 7, 10, 13, 16, 19, 22, 25, 28, 31, 34]]\n",
    "\n",
    "#  Excluir a primeira linha\n",
    "Descargas_Energisa = Descargas_Energisa.drop(0)\n",
    "\n",
    "# Renomear todas as colunas\n",
    "novos_nomes_colunas = ['Localidade', 'Janeiro', 'Fevereiro', 'Março', 'Abril', 'Maio', 'Junho', 'Julho', 'Agosto', 'Setembro', 'Outubro', 'Novembro', 'Dezembro']\n",
    "\n",
    "Descargas_Energisa.columns = novos_nomes_colunas\n"
   ]
  },
  {
   "cell_type": "code",
   "execution_count": 19,
   "metadata": {},
   "outputs": [
    {
     "name": "stdout",
     "output_type": "stream",
     "text": [
      "WARNING *** OLE2 inconsistency: SSCS size is 0 but SSAT size is non-zero\n",
      "*** No CODEPAGE record, no encoding_override: will use 'iso-8859-1'\n"
     ]
    }
   ],
   "source": [
    "Cod_IBGE = pd.read_excel(f'/home/ruanv/Documentos/cod_ibge.xls', header=6)\n",
    "Ocorrencias = pd.read_csv(f'/home/ruanv/Documentos/ocorrencias-emergenciais-rede-distribuicao-2023.csv', delimiter=';', encoding='latin-1', low_memory=False)"
   ]
  },
  {
   "cell_type": "code",
   "execution_count": 20,
   "metadata": {},
   "outputs": [
    {
     "name": "stdout",
     "output_type": "stream",
     "text": [
      "        DatGeracaoConjuntoDados                                     NomAgente  \\\n",
      "0                    2023-10-10  ENERGISA ACRE - DISTRIBUIDORA DE ENERGIA S.A   \n",
      "1                    2023-10-10  ENERGISA ACRE - DISTRIBUIDORA DE ENERGIA S.A   \n",
      "2                    2023-10-10  ENERGISA ACRE - DISTRIBUIDORA DE ENERGIA S.A   \n",
      "3                    2023-10-10  ENERGISA ACRE - DISTRIBUIDORA DE ENERGIA S.A   \n",
      "4                    2023-10-10  ENERGISA ACRE - DISTRIBUIDORA DE ENERGIA S.A   \n",
      "...                         ...                                           ...   \n",
      "6899052              2023-10-10                         Amazonas Energia S.A.   \n",
      "6899053              2023-10-10                         Amazonas Energia S.A.   \n",
      "6899054              2023-10-10                         Amazonas Energia S.A.   \n",
      "6899055              2023-10-10                         Amazonas Energia S.A.   \n",
      "6899056              2023-10-10                         Amazonas Energia S.A.   \n",
      "\n",
      "            NumCPFCNPJ NumOcorrencia  NumConjunto DthInicioOcorrenciaAberta  \\\n",
      "0        4065033000170        2023-1        12597       2023-01-01 00:16:34   \n",
      "1        4065033000170        2023-1        12597       2023-01-01 00:16:34   \n",
      "2        4065033000170       2023-22        12595       2023-01-01 00:21:50   \n",
      "3        4065033000170       2023-26        12590       2023-01-01 01:04:00   \n",
      "4        4065033000170       2023-27        12590       2023-01-01 03:36:00   \n",
      "...                ...           ...          ...                       ...   \n",
      "6899052  2341467000120  723083101398        15800       2023-08-31 23:49:20   \n",
      "6899053  2341467000120  723083101399        13009       2023-08-31 23:49:26   \n",
      "6899054  2341467000120  723090100423        13009       2023-08-31 23:49:26   \n",
      "6899055  2341467000120  723083101403        13011       2023-08-31 23:52:51   \n",
      "6899056  2341467000120  723083101404        13011       2023-08-31 23:53:10   \n",
      "\n",
      "              DscCanalAtendimento DthFimOcorrenciaAberta  \\\n",
      "0                          Alarme    2023-01-01 11:39:00   \n",
      "1                          Alarme    2023-01-01 11:39:00   \n",
      "2                      Reclamação    2023-01-01 00:42:00   \n",
      "3                      Reclamação    2023-01-01 08:58:00   \n",
      "4                      Reclamação    2023-01-01 11:28:10   \n",
      "...                           ...                    ...   \n",
      "6899052  Reclamação do Consumidor    2023-09-01 01:11:56   \n",
      "6899053  Reclamação do Consumidor    2023-09-01 11:04:31   \n",
      "6899054  Reclamação do Consumidor    2023-09-01 14:07:32   \n",
      "6899055  Reclamação do Consumidor    2023-09-01 01:29:44   \n",
      "6899056  Reclamação do Consumidor    2023-09-01 07:35:55   \n",
      "\n",
      "                                       DscOcorrenciaAberta DscNumInterrupcao  \\\n",
      "0        INTERNA;NAO PROGRAMADA;TERCEIROS;INTERFERENCIA...            2023-1   \n",
      "1        INTERNA;NAO PROGRAMADA;TERCEIROS;INTERFERENCIA...            2023-1   \n",
      "2        INTERNA;NAO PROGRAMADA;MEIO AMBIENTE;DESCARGA ...           2023-22   \n",
      "3        INTERNA;NAO PROGRAMADA;MEIO AMBIENTE;DESCARGA ...           2023-26   \n",
      "4                  INTERNA;NAO PROGRAMADA;NAO CLASSIFICADA               S/I   \n",
      "...                                                    ...               ...   \n",
      "6899052  INTERNA;NAO PROGRAMADA;PROPRIAS DO SISTEMA;FAL...            648991   \n",
      "6899053  INTERNA;NAO PROGRAMADA;TERCEIROS;DEFEITO INTER...            649169   \n",
      "6899054      INTERNA;NAO PROGRAMADA;MEIO AMBIENTE;CORROSAO            649285   \n",
      "6899055      INTERNA;NAO PROGRAMADA;MEIO AMBIENTE;CORROSAO            648992   \n",
      "6899056  INTERNA;NAO PROGRAMADA;PROPRIAS DO SISTEMA;FAL...            649038   \n",
      "\n",
      "        MdaPreparo MdaDeslocamento MdaExecucao  NumVeiculo  CodIBGE  \n",
      "0        404,23333       137,00000   141,20000   RBR_SN_02  1200401  \n",
      "1        404,23333       137,00000   141,20000   RBR_SN_02  1200401  \n",
      "2           ,26666         3,21666    16,68333   CZS_SN_03  1200203  \n",
      "3        338,86666        62,13333    73,00000   MNT-VIRT2  1200013  \n",
      "4        401,68333        27,26666    43,21666   RBR_SN_05  1200401  \n",
      "...            ...             ...         ...         ...      ...  \n",
      "6899052   59,72000        20,23000     2,65000  LVM0010735  1302603  \n",
      "6899053  663,57000         2,62000      ,08000  ETM0010727  1302603  \n",
      "6899054  817,33000        13,77000    27,00000  ELM0010183  1302603  \n",
      "6899055   40,33000        34,58000    21,97000  ELM0010810  1302603  \n",
      "6899056  426,62000        27,20000     8,93000  ELM0010810  1302603  \n",
      "\n",
      "[6899057 rows x 15 columns]\n"
     ]
    }
   ],
   "source": [
    "print(Ocorrencias)"
   ]
  },
  {
   "cell_type": "code",
   "execution_count": 21,
   "metadata": {},
   "outputs": [],
   "source": [
    "Ocorrencias = Ocorrencias[Ocorrencias['DscOcorrenciaAberta'].str.contains(\"DESCARGA ATMOSFERICA\", case=False)]\n"
   ]
  },
  {
   "cell_type": "code",
   "execution_count": 22,
   "metadata": {},
   "outputs": [],
   "source": [
    "Ocorrencias = pd.merge(Ocorrencias, Cod_IBGE, left_on='CodIBGE', right_on='Código Município Completo', how='left')"
   ]
  },
  {
   "cell_type": "code",
   "execution_count": 23,
   "metadata": {},
   "outputs": [
    {
     "name": "stdout",
     "output_type": "stream",
     "text": [
      "       DatGeracaoConjuntoDados                                     NomAgente  \\\n",
      "0                   2023-10-10  ENERGISA ACRE - DISTRIBUIDORA DE ENERGIA S.A   \n",
      "1                   2023-10-10  ENERGISA ACRE - DISTRIBUIDORA DE ENERGIA S.A   \n",
      "2                   2023-10-10  ENERGISA ACRE - DISTRIBUIDORA DE ENERGIA S.A   \n",
      "3                   2023-10-10  ENERGISA ACRE - DISTRIBUIDORA DE ENERGIA S.A   \n",
      "4                   2023-10-10  ENERGISA ACRE - DISTRIBUIDORA DE ENERGIA S.A   \n",
      "...                        ...                                           ...   \n",
      "186494              2023-10-10                         Amazonas Energia S.A.   \n",
      "186495              2023-10-10                         Amazonas Energia S.A.   \n",
      "186496              2023-10-10                         Amazonas Energia S.A.   \n",
      "186497              2023-10-10                         Amazonas Energia S.A.   \n",
      "186498              2023-10-10                         Amazonas Energia S.A.   \n",
      "\n",
      "           NumCPFCNPJ NumOcorrencia  NumConjunto DthInicioOcorrenciaAberta  \\\n",
      "0       4065033000170       2023-22        12595       2023-01-01 00:21:50   \n",
      "1       4065033000170       2023-26        12590       2023-01-01 01:04:00   \n",
      "2       4065033000170      2023-199        12595       2023-01-01 13:28:36   \n",
      "3       4065033000170      2023-265        12594       2023-01-01 15:33:04   \n",
      "4       4065033000170      2023-347        12594       2023-01-01 17:28:00   \n",
      "...               ...           ...          ...                       ...   \n",
      "186494  2341467000120  723083101271        12585       2023-08-31 21:10:13   \n",
      "186495  2341467000120  723083101310        12582       2023-08-31 22:06:38   \n",
      "186496  2341467000120  723083101310        12581       2023-08-31 22:06:38   \n",
      "186497  2341467000120  723083101371        12581       2023-08-31 23:16:28   \n",
      "186498  2341467000120  723083101375        12584       2023-08-31 23:20:23   \n",
      "\n",
      "             DscCanalAtendimento DthFimOcorrenciaAberta  \\\n",
      "0                     Reclamação    2023-01-01 00:42:00   \n",
      "1                     Reclamação    2023-01-01 08:58:00   \n",
      "2                     Reclamação    2023-01-01 16:15:00   \n",
      "3                     Reclamação    2023-01-02 10:11:00   \n",
      "4                     Reclamação    2023-01-02 17:10:00   \n",
      "...                          ...                    ...   \n",
      "186494  Reclamação do Consumidor    2023-08-31 22:48:25   \n",
      "186495  Reclamação do Consumidor    2023-08-31 23:18:17   \n",
      "186496  Reclamação do Consumidor    2023-08-31 23:18:17   \n",
      "186497  Reclamação do Consumidor    2023-08-31 23:44:54   \n",
      "186498  Reclamação do Consumidor    2023-09-01 00:21:07   \n",
      "\n",
      "                                      DscOcorrenciaAberta DscNumInterrupcao  \\\n",
      "0       INTERNA;NAO PROGRAMADA;MEIO AMBIENTE;DESCARGA ...           2023-22   \n",
      "1       INTERNA;NAO PROGRAMADA;MEIO AMBIENTE;DESCARGA ...           2023-26   \n",
      "2       INTERNA;NAO PROGRAMADA;MEIO AMBIENTE;DESCARGA ...          2023-199   \n",
      "3       INTERNA;NAO PROGRAMADA;MEIO AMBIENTE;DESCARGA ...          2023-265   \n",
      "4       INTERNA;NAO PROGRAMADA;MEIO AMBIENTE;DESCARGA ...          2023-347   \n",
      "...                                                   ...               ...   \n",
      "186494  INTERNA;NAO PROGRAMADA;MEIO AMBIENTE;DESCARGA ...            648946   \n",
      "186495  INTERNA;NAO PROGRAMADA;MEIO AMBIENTE;DESCARGA ...            648949   \n",
      "186496  INTERNA;NAO PROGRAMADA;MEIO AMBIENTE;DESCARGA ...            648949   \n",
      "186497  INTERNA;NAO PROGRAMADA;MEIO AMBIENTE;DESCARGA ...            648985   \n",
      "186498  INTERNA;NAO PROGRAMADA;MEIO AMBIENTE;DESCARGA ...            648987   \n",
      "\n",
      "        ... Nome Região Geográfica Intermediária Região Geográfica Imediata  \\\n",
      "0       ...                      Cruzeiro do Sul                     120004   \n",
      "1       ...                           Rio Branco                     120001   \n",
      "2       ...                      Cruzeiro do Sul                     120004   \n",
      "3       ...                           Rio Branco                     120002   \n",
      "4       ...                           Rio Branco                     120002   \n",
      "...     ...                                  ...                        ...   \n",
      "186494  ...                               Manaus                     130004   \n",
      "186495  ...                               Manaus                     130001   \n",
      "186496  ...                               Manaus                     130001   \n",
      "186497  ...                               Manaus                     130001   \n",
      "186498  ...                                 Tefé                     130006   \n",
      "\n",
      "       Nome Região Geográfica Imediata Mesorregião Geográfica  \\\n",
      "0                      Cruzeiro do Sul                      1   \n",
      "1                           Rio Branco                      2   \n",
      "2                      Cruzeiro do Sul                      1   \n",
      "3                            Brasiléia                      2   \n",
      "4                            Brasiléia                      2   \n",
      "...                                ...                    ...   \n",
      "186494                      Manacapuru                      3   \n",
      "186495                          Manaus                      3   \n",
      "186496                          Manaus                      3   \n",
      "186497                          Manaus                      3   \n",
      "186498                       Tabatinga                      2   \n",
      "\n",
      "           Nome_Mesorregião  Microrregião Geográfica Nome_Microrregião  \\\n",
      "0             Vale do Juruá                        1   Cruzeiro do Sul   \n",
      "1              Vale do Acre                        4        Rio Branco   \n",
      "2             Vale do Juruá                        1   Cruzeiro do Sul   \n",
      "3              Vale do Acre                        5         Brasiléia   \n",
      "4              Vale do Acre                        5         Brasiléia   \n",
      "...                     ...                      ...               ...   \n",
      "186494    Centro Amazonense                        7            Manaus   \n",
      "186495    Centro Amazonense                        9       Itacoatiara   \n",
      "186496    Centro Amazonense                        9       Itacoatiara   \n",
      "186497    Centro Amazonense                        8  Rio Preto da Eva   \n",
      "186498  Sudoeste Amazonense                        3     Alto Solimões   \n",
      "\n",
      "        Município Código Município Completo         Nome_Município  \n",
      "0             203                   1200203        Cruzeiro do Sul  \n",
      "1              13                   1200013             Acrelândia  \n",
      "2             203                   1200203        Cruzeiro do Sul  \n",
      "3             104                   1200104              Brasiléia  \n",
      "4             104                   1200104              Brasiléia  \n",
      "...           ...                       ...                    ...  \n",
      "186494       2504                   1302504             Manacapuru  \n",
      "186495       3106                   1303106   Nova Olinda do Norte  \n",
      "186496       3106                   1303106   Nova Olinda do Norte  \n",
      "186497       3536                   1303536  Presidente Figueiredo  \n",
      "186498       3908                   1303908  São Paulo de Olivença  \n",
      "\n",
      "[186499 rows x 28 columns]\n"
     ]
    }
   ],
   "source": [
    "print(Ocorrencias)"
   ]
  },
  {
   "cell_type": "code",
   "execution_count": 24,
   "metadata": {},
   "outputs": [
    {
     "name": "stdout",
     "output_type": "stream",
     "text": [
      "               Localidade Janeiro Fevereiro  Março Abril  Maio Junho Julho  \\\n",
      "1        Energisa Paraíba   28684     36175  18879  8429  4083     0     0   \n",
      "2             Água Branca      45       104    119    19    27     0     0   \n",
      "3                  Aguiar     322       524    721   166     2     0     0   \n",
      "4           Alagoa Grande       3        19     41     3     0     0     0   \n",
      "5             Alagoa Nova       6         2      0     2     0     0     0   \n",
      "..                    ...     ...       ...    ...   ...   ...   ...   ...   \n",
      "956         São Francisco       0         0      0     0     0     0     0   \n",
      "957  São Miguel Do Aleixo       0         0      5     0     0     0     0   \n",
      "958            Simão Dias       1        59     30     0     0     0     0   \n",
      "959                Siriri       1        87     14     0     0     0     0   \n",
      "960                 Telha       0         2      0     0     0     0     0   \n",
      "\n",
      "    Agosto Setembro Outubro Novembro Dezembro  \n",
      "1        1      252       0        0        -  \n",
      "2        0        0       0        0        -  \n",
      "3        0       26       0        0        -  \n",
      "4        0        0       0        0        -  \n",
      "5        0        0       0        0        -  \n",
      "..     ...      ...     ...      ...      ...  \n",
      "956      0        0       -        -        -  \n",
      "957      0        0       -        -        -  \n",
      "958      0        0       -        -        -  \n",
      "959      0        0       -        -        -  \n",
      "960      0        0       -        -        -  \n",
      "\n",
      "[960 rows x 13 columns]\n"
     ]
    }
   ],
   "source": [
    "print(Descargas_Energisa)"
   ]
  }
 ],
 "metadata": {
  "kernelspec": {
   "display_name": "Python 3",
   "language": "python",
   "name": "python3"
  },
  "language_info": {
   "codemirror_mode": {
    "name": "ipython",
    "version": 3
   },
   "file_extension": ".py",
   "mimetype": "text/x-python",
   "name": "python",
   "nbconvert_exporter": "python",
   "pygments_lexer": "ipython3",
   "version": "3.10.12"
  }
 },
 "nbformat": 4,
 "nbformat_minor": 2
}
