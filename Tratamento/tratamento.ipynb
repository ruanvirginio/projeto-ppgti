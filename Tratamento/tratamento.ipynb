{
 "cells": [
  {
   "cell_type": "code",
   "execution_count": null,
   "metadata": {},
   "outputs": [],
   "source": [
    "# Tratamento de dados, ainda fora do ambiente kubernetes\n",
    "\n",
    "import pandas as pd\n",
    "import os"
   ]
  },
  {
   "cell_type": "code",
   "execution_count": null,
   "metadata": {},
   "outputs": [],
   "source": [
    "import pandas as pd\n",
    "\n",
    "Descargas_EPB = pd.read_csv(f'/home/ruanv/DESCARGAS_2023/Consolidado Raios 2023_EPB.csv', delimiter=';')\n",
    "Descargas_ERO = pd.read_csv(f'/home/ruanv/DESCARGAS_2023/Consolidado Raios 2023_ERO.csv', delimiter=';')\n",
    "Descargas_EMT = pd.read_csv(f'/home/ruanv/DESCARGAS_2023/Consolidado Raios 2023_EMT.csv', delimiter=';')\n",
    "Descargas_EMS = pd.read_csv(f'/home/ruanv/DESCARGAS_2023/Consolidado Raios 2023_EMS.csv', delimiter=';')\n",
    "Descargas_EMR = pd.read_csv(f'/home/ruanv/DESCARGAS_2023/Consolidado Raios 2023_EMR.csv', delimiter=';')\n",
    "Descargas_EAC = pd.read_csv(f'/home/ruanv/DESCARGAS_2023/Consolidado Raios 2023_EAC.csv', delimiter=';')\n",
    "Descargas_ETO = pd.read_csv(f'/home/ruanv/DESCARGAS_2023/Consolidado Raios 2023_ETO.csv', delimiter=';')\n",
    "Descargas_ESS = pd.read_csv(f'/home/ruanv/DESCARGAS_2023/Consolidado Raios 2023_ESS.csv', delimiter=';')\n",
    "Descargas_ESE = pd.read_csv(f'/home/ruanv/DESCARGAS_2023/Consolidado Raios 2023_ESE.csv', delimiter=';')\n",
    "\n",
    "Lista_Descargas = [Descargas_EPB, Descargas_ERO, Descargas_EMT, Descargas_EMS, Descargas_EMR, Descargas_EAC, Descargas_ETO, Descargas_ESS, Descargas_ESE]\n",
    "\n",
    "Descargas_Energisa = pd.concat(Lista_Descargas, ignore_index=True)\n",
    "\n",
    "Descargas_Energisa = Descargas_Energisa.iloc[:, [0, 1, 4, 7, 10, 13, 16, 19, 22, 25, 28, 31, 34]]\n",
    "\n",
    "#  Excluir a primeira linha\n",
    "Descargas_Energisa = Descargas_Energisa.drop(0)\n",
    "\n",
    "# Renomear todas as colunas\n",
    "novos_nomes_colunas = ['Localidade', 'Janeiro', 'Fevereiro', 'Março', 'Abril', 'Maio', 'Junho', 'Julho', 'Agosto', 'Setembro', 'Outubro', 'Novembro', 'Dezembro']\n",
    "\n",
    "Descargas_Energisa.columns = novos_nomes_colunas\n"
   ]
  },
  {
   "cell_type": "code",
   "execution_count": null,
   "metadata": {},
   "outputs": [],
   "source": []
  },
  {
   "cell_type": "code",
   "execution_count": null,
   "metadata": {},
   "outputs": [],
   "source": []
  },
  {
   "cell_type": "code",
   "execution_count": null,
   "metadata": {},
   "outputs": [],
   "source": []
  }
 ],
 "metadata": {
  "kernelspec": {
   "display_name": "Python 3",
   "language": "python",
   "name": "python3"
  },
  "language_info": {
   "codemirror_mode": {
    "name": "ipython",
    "version": 3
   },
   "file_extension": ".py",
   "mimetype": "text/x-python",
   "name": "python",
   "nbconvert_exporter": "python",
   "pygments_lexer": "ipython3",
   "version": "3.10.12"
  }
 },
 "nbformat": 4,
 "nbformat_minor": 2
}
