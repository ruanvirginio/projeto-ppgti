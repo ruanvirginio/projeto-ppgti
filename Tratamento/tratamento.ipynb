{
 "cells": [
  {
   "cell_type": "code",
   "execution_count": null,
   "metadata": {},
   "outputs": [],
   "source": [
    "# pip install xlrd\n",
    "# pip install pandas"
   ]
  },
  {
   "cell_type": "code",
   "execution_count": 1,
   "metadata": {},
   "outputs": [],
   "source": [
    "# Subindo os dados de descargas de cada UN\n",
    "import pandas as pd\n",
    "import os\n",
    "\n",
    "Descargas_EPB = pd.read_csv(f'/home/ruanv/DESCARGAS_2023/Consolidado Raios 2023_EPB.csv', delimiter=';')\n",
    "Descargas_ERO = pd.read_csv(f'/home/ruanv/DESCARGAS_2023/Consolidado Raios 2023_ERO.csv', delimiter=';')\n",
    "Descargas_EMT = pd.read_csv(f'/home/ruanv/DESCARGAS_2023/Consolidado Raios 2023_EMT.csv', delimiter=';')\n",
    "Descargas_EMS = pd.read_csv(f'/home/ruanv/DESCARGAS_2023/Consolidado Raios 2023_EMS.csv', delimiter=';')\n",
    "Descargas_EMR = pd.read_csv(f'/home/ruanv/DESCARGAS_2023/Consolidado Raios 2023_EMR.csv', delimiter=';')\n",
    "Descargas_EAC = pd.read_csv(f'/home/ruanv/DESCARGAS_2023/Consolidado Raios 2023_EAC.csv', delimiter=';')\n",
    "Descargas_ETO = pd.read_csv(f'/home/ruanv/DESCARGAS_2023/Consolidado Raios 2023_ETO.csv', delimiter=';')\n",
    "Descargas_ESS = pd.read_csv(f'/home/ruanv/DESCARGAS_2023/Consolidado Raios 2023_ESS.csv', delimiter=';')\n",
    "Descargas_ESE = pd.read_csv(f'/home/ruanv/DESCARGAS_2023/Consolidado Raios 2023_ESE.csv', delimiter=';')\n",
    "\n",
    "# Deixando um único dataframe pra todas as descargas do grupo Energisa\n",
    "Lista_Descargas = [Descargas_EPB, Descargas_ERO, Descargas_EMT, Descargas_EMS, Descargas_EMR, Descargas_EAC, Descargas_ETO, Descargas_ESS, Descargas_ESE]\n",
    "Descargas_Energisa = pd.concat(Lista_Descargas, ignore_index=True)\n",
    "\n",
    "# Mantendo apenas as colunas da base que possuem dados de raios no sentido Nuvem-Solo\n",
    "Descargas_Energisa = Descargas_Energisa.iloc[:, [0, 1, 4, 7, 10, 13, 16, 19, 22, 25, 28, 31, 34]]\n",
    "\n",
    "#  Excluir a primeira linha, pois a tabela só começa na terceira linha\n",
    "Descargas_Energisa = Descargas_Energisa.drop(0)\n",
    "\n",
    "# Renomear todas as colunas para que fique de acordo com o número de raios nos meses correspondentes \n",
    "novos_nomes_colunas = ['Localidade', 'Janeiro', 'Fevereiro', 'Março', 'Abril', 'Maio', 'Junho', 'Julho', 'Agosto', 'Setembro', 'Outubro', 'Novembro', 'Dezembro']\n",
    "Descargas_Energisa.columns = novos_nomes_colunas\n"
   ]
  },
  {
   "cell_type": "code",
   "execution_count": 2,
   "metadata": {},
   "outputs": [
    {
     "name": "stdout",
     "output_type": "stream",
     "text": [
      "WARNING *** OLE2 inconsistency: SSCS size is 0 but SSAT size is non-zero\n",
      "*** No CODEPAGE record, no encoding_override: will use 'iso-8859-1'\n"
     ]
    }
   ],
   "source": [
    "# Carregando as bases de Ocorrências da ANEEL e dos códigos do IBGE\n",
    "Cod_IBGE = pd.read_excel(f'/home/ruanv/Documentos/cod_ibge.xls', header=6)\n",
    "Ocorrencias = pd.read_csv(f'/home/ruanv/Documentos/ocorrencias-emergenciais-rede-distribuicao-2023.csv', delimiter=';', encoding='latin-1', low_memory=False)"
   ]
  },
  {
   "cell_type": "code",
   "execution_count": null,
   "metadata": {},
   "outputs": [],
   "source": [
    "# Adicionando a coluna de código IBGE no dataframe com os dados de descargas atmosféricas"
   ]
  },
  {
   "cell_type": "code",
   "execution_count": 4,
   "metadata": {},
   "outputs": [
    {
     "name": "stdout",
     "output_type": "stream",
     "text": [
      "Index(['DatGeracaoConjuntoDados', 'NomAgente', 'NumCPFCNPJ', 'NumOcorrencia',\n",
      "       'NumConjunto', 'DthInicioOcorrenciaAberta', 'DscCanalAtendimento',\n",
      "       'DthFimOcorrenciaAberta', 'DscOcorrenciaAberta', 'DscNumInterrupcao',\n",
      "       'MdaPreparo', 'MdaDeslocamento', 'MdaExecucao', 'NumVeiculo',\n",
      "       'CodIBGE'],\n",
      "      dtype='object')\n"
     ]
    }
   ],
   "source": [
    "print(Ocorrencias.columns)"
   ]
  },
  {
   "cell_type": "code",
   "execution_count": null,
   "metadata": {},
   "outputs": [],
   "source": [
    "# Filtrando apenas ocorrências que sejam advindas de descargas atmosféricas\n",
    "Ocorrencias = Ocorrencias[Ocorrencias['DscOcorrenciaAberta'] == \"INTERNA;NAO PROGRAMADA;MEIO AMBIENTE;DESCARGA ATMOSFERICA\"]\n"
   ]
  },
  {
   "cell_type": "code",
   "execution_count": null,
   "metadata": {},
   "outputs": [],
   "source": [
    "# Mesclando a tabela de Ocorrências com o nome dos municípios, conforme código IBGE\n",
    "Ocorrencias = pd.merge(Ocorrencias, Cod_IBGE, left_on='CodIBGE', right_on='Código Município Completo', how='left')"
   ]
  },
  {
   "cell_type": "code",
   "execution_count": null,
   "metadata": {},
   "outputs": [],
   "source": [
    "print(Cod_IBGE)"
   ]
  },
  {
   "cell_type": "code",
   "execution_count": null,
   "metadata": {},
   "outputs": [],
   "source": [
    "print(Ocorrencias)"
   ]
  },
  {
   "cell_type": "code",
   "execution_count": null,
   "metadata": {},
   "outputs": [],
   "source": [
    "print(Descargas_Energisa)"
   ]
  },
  {
   "cell_type": "code",
   "execution_count": null,
   "metadata": {},
   "outputs": [],
   "source": [
    "import pandas as pd\n",
    "\n",
    "# Supondo que você tenha um DataFrame chamado Cod_IBGE com as colunas \"Município\" e \"Nome_UF\"\n",
    "\n",
    "# Supondo que você já tenha os DataFrames Descargas_EPB, Descargas_ERO, etc.\n",
    "# Substitua isso pelos seus DataFrames reais\n",
    "\n",
    "# Agora, adicionando a coluna \"Cod_IBGE\" para cada DataFrame na Lista_Descargas\n",
    "for base in Lista_Descargas:\n",
    "    # Obtém o estado da base atual\n",
    "    estado = base.iloc[0]['Localidade']\n",
    "    \n",
    "    # Filtra o DataFrame Cod_IBGE para o estado correspondente\n",
    "    cod_ibge_estado = Cod_IBGE[Cod_IBGE['Nome_UF'] == estado]\n",
    "    \n",
    "    # Mescla os DataFrames com base no município\n",
    "    base = pd.merge(base, cod_ibge_estado[['Nome_Município', 'Cod_IBGE']], how='left', left_on='Localidade', right_on='Município')\n",
    "    \n",
    "    # Remove a coluna redundante\n",
    "    base = base.drop(columns='Município')\n",
    "    \n",
    "    # Renomeia a coluna Cod_IBGE\n",
    "    base = base.rename(columns={'Cod_IBGE': 'Cod_IBGE'})\n",
    "\n",
    "# Agora, cada DataFrame na Lista_Descargas terá uma nova coluna 'Cod_IBGE'\n"
   ]
  }
 ],
 "metadata": {
  "kernelspec": {
   "display_name": "Python 3",
   "language": "python",
   "name": "python3"
  },
  "language_info": {
   "codemirror_mode": {
    "name": "ipython",
    "version": 3
   },
   "file_extension": ".py",
   "mimetype": "text/x-python",
   "name": "python",
   "nbconvert_exporter": "python",
   "pygments_lexer": "ipython3",
   "version": "3.10.12"
  }
 },
 "nbformat": 4,
 "nbformat_minor": 2
}
